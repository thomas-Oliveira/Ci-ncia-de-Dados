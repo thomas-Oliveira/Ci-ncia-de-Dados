{
 "cells": [
  {
   "cell_type": "markdown",
   "metadata": {},
   "source": [
    "## Videos Trabalhados e do Minicurso Ciência de Dados Usando Python\n",
    "___\n",
    "* 1 - Apresentação do curso ciência de dados na prática\n",
    "* 2 - Apresentação da plataforma Kaggle\n",
    "* 3 - Um pouco sobre algumas ferramentas usadas em análise de dados\n",
    "____\n",
    "* 4 - Primeiros passos no Jupyter Notebook\n",
    "* 5 - Primeiros passos no Jupyter Notebook - parte II\n",
    "* 6 - Primeiros passos no Jupyter Notebook - parte III\n",
    "___\n",
    "* 1/5 - Minicurso Ciência de Dados Usando Python - Introdução e Anaconda\n",
    "* 2/5 - Minicurso Ciência de Dados Usando Python - Jupyter\n",
    "* 3/5 - Minicurso Ciência de Dados Usando Python - numpy\n",
    "* 4/5 - Minicurso Ciência de Dados Usando Python - matplotlib\n",
    "* 5/5 - Minicurso Ciência de Dados Usando Python - Pandas\n",
    "___\n",
    "* 7 - Dicas de bibliografia e alguns detalhes importantes.\n",
    "___\n",
    "* 8 - Primeiros passos no Jupyter Notebook - parte IV\n",
    "* 9 - Alguns comandos e atalhos no Jupyter - parte I\n",
    "* 10 - Alguns comandos e atalhos no Jupyter - parte II\n",
    "* 11 - Criando ambientes\n",
    "* 12 - Alguns comandos e atalhos no Jupyter - parte III\n",
    "___\n",
    "* 13 - Bibliotecas\n",
    "* 14 - Numpy\n",
    "* 15 - Numpy continuação\n",
    "* 16 - Matplotlib\n",
    "* 17- Matplotlib continuação\n",
    "* 18 - Pandas\n",
    "* 19 - Pandas continuação\n",
    "___\n",
    "* 20 - Iniciando Análise de Dados a partir de dados de diabetes - Parte I\n",
    "* 21 - Iniciando Análise de Dados a partir de dados de diabetes - Parte II\n",
    "* 22 - Iniciando Análise de Dados a partir de dados de diabetes - Parte III\n",
    "* 23 - Introdução a Análise de Dados\n",
    "* 24 - Análise de dados Parte I\n",
    "* 25 - Análise de dados Parte II\n"
   ]
  },
  {
   "cell_type": "markdown",
   "metadata": {},
   "source": [
    "## Possiveis videos\n",
    "\n",
    "- continuação sobre os videos relacionados em Numpy, Matplotlib e Pandas.\n",
    "    usando os arquivos disponiveis no github sobre tutorial dos mesmos\n",
    "___\n",
    "- Explicação sobre KNN\n",
    "- Análise de dados, Construindo classificador KNN.\n",
    "- Análise de dados, Introdução a análise de dados usando árvore de decisão.\n",
    "- Análise de dados, classificação.\n",
    "- Análise de dados, Regreção linear.\n",
    "- Análise de dados, Regreção logistica.\n",
    "___\n",
    "- Novos Videos a serem pensados"
   ]
  },
  {
   "cell_type": "code",
   "execution_count": null,
   "metadata": {},
   "outputs": [],
   "source": []
  }
 ],
 "metadata": {
  "kernelspec": {
   "display_name": "Python 3",
   "language": "python",
   "name": "python3"
  },
  "language_info": {
   "codemirror_mode": {
    "name": "ipython",
    "version": 3
   },
   "file_extension": ".py",
   "mimetype": "text/x-python",
   "name": "python",
   "nbconvert_exporter": "python",
   "pygments_lexer": "ipython3",
   "version": "3.6.4"
  }
 },
 "nbformat": 4,
 "nbformat_minor": 2
}
